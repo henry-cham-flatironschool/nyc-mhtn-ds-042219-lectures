{
 "cells": [
  {
   "cell_type": "markdown",
   "metadata": {},
   "source": [
    "# Intro to SQL Databases"
   ]
  },
  {
   "cell_type": "markdown",
   "metadata": {},
   "source": [
    "Agenda today:\n",
    "- Introducing structure and overview of relational databases \n",
    "- Different types of sql databases\n",
    "- Instantiate database instance on your local computer\n",
    "- Working with querying data in db"
   ]
  },
  {
   "cell_type": "markdown",
   "metadata": {},
   "source": [
    "## Part I. DB Structures "
   ]
  },
  {
   "cell_type": "markdown",
   "metadata": {},
   "source": [
    "### What is a Database?\n",
    "- In general, databases store sets of data that can be queried for use in other applications. A database management system supports the development, administration and use of database platforms."
   ]
  },
  {
   "cell_type": "markdown",
   "metadata": {},
   "source": [
    "### What is a Relational Database? \n",
    "- An realtionsal database management system (RDBMS) is a type of DBMS with a row-based table structure that connects related data elements and includes functions that maintain the security, accuracy, integrity and consistency of the data.\n",
    "- The most basic RDBMS functions are related to create, read, update and delete operations, collectively known as CRUD."
   ]
  },
  {
   "cell_type": "markdown",
   "metadata": {},
   "source": [
    "### What is SQL?\n",
    "\n",
    "- SQL stands for Structured Query Language.\n",
    "- A programming language used to communicate with data stored in a relational database management system.\n",
    "- SQL syntax is similar to the English language, which makes it relatively easy to write, read, and interpret."
   ]
  },
  {
   "cell_type": "markdown",
   "metadata": {},
   "source": [
    "### POPULAR RDBMS\n",
    "\n",
    "- SQLite\n",
    "- MySQL\n",
    "- PostgreSql\n",
    "- Oracle DB\n",
    "- SQL Server"
   ]
  },
  {
   "cell_type": "markdown",
   "metadata": {},
   "source": [
    "### SQLite\n",
    "- SQLite is a popular open source SQL database. \n",
    "- It can store an entire database in a single file.\n",
    "- It is 'lite' because it is not server based.\n",
    "- Does not have many features of server-based RDBMS like users and permissions.\n",
    "- Great to get up and running quick, not good for complex projects.\n"
   ]
  },
  {
   "cell_type": "markdown",
   "metadata": {},
   "source": [
    "### MySQL\n",
    "\n",
    "- MySQL is the most popular open source SQL database. \n",
    "- It is typically used for web application development, and often accessed using PHP. \n",
    "- It is easy to use, inexpensive, reliable and has a large community of developers who can help answer questions.\n",
    "- Open source development has lagged since Oracle has taken control of MySQL.\n",
    "- Has been known to suffer from poor performance when scaling, \n",
    "- Does not include some advanced features that developers may be used to."
   ]
  },
  {
   "cell_type": "markdown",
   "metadata": {},
   "source": [
    "### PostgreSQL\n",
    "\n",
    "- PostgreSQL is an open-source SQL database that is not controlled by any corporation.\n",
    "- PostgreSQL shares many of the same advantages of MySQL.\n",
    "- It is slower in performance than other databases such as MySQL\n",
    "- Harder to come by hosts or service providers that offer managed PostgreSQL instances. "
   ]
  },
  {
   "cell_type": "markdown",
   "metadata": {},
   "source": [
    "### Oracle DB\n",
    "\n",
    "- Owned by Oracle Corporation, and the code is not open sourced. \n",
    "- Oracle DB is for large applications, particularly in the banking industry. \n",
    "- The main disadvantage of using Oracle is that it is not free."
   ]
  },
  {
   "cell_type": "markdown",
   "metadata": {},
   "source": [
    "## Part II. Working with Sqlite DB"
   ]
  },
  {
   "cell_type": "markdown",
   "metadata": {},
   "source": [
    "First of all, everyone fill out a dictionary of the following structure:\n",
    "```javascript\n",
    "    {'first_name': 'Fangfang',\n",
    "    'birthday':'09-07'\n",
    "    }```"
   ]
  },
  {
   "cell_type": "markdown",
   "metadata": {},
   "source": [
    "### Instantiating, creating, and inserting data into a database"
   ]
  },
  {
   "cell_type": "code",
   "execution_count": 1,
   "metadata": {},
   "outputs": [],
   "source": [
    "## instantiate a sql instance on your local computer \n",
    "import sqlite3\n",
    "\n",
    "# we then need to establish a connection object that represent the database\n",
    "conn = sqlite3.connect('students.db')\n",
    "\n",
    "# we then create a cursor that allow us to interact with, and create sql commands\n",
    "c = conn.cursor()"
   ]
  },
  {
   "cell_type": "code",
   "execution_count": 2,
   "metadata": {},
   "outputs": [
    {
     "data": {
      "text/plain": [
       "<sqlite3.Cursor at 0x11118c2d0>"
      ]
     },
     "execution_count": 2,
     "metadata": {},
     "output_type": "execute_result"
    }
   ],
   "source": [
    "# create a table, insert entries, and query results \n",
    "c.execute(\"\"\"CREATE TABLE students (\n",
    "            first_name text,\n",
    "            birth_date text,\n",
    "            num_siblings integer\n",
    "            )\"\"\")\n"
   ]
  },
  {
   "cell_type": "code",
   "execution_count": 28,
   "metadata": {},
   "outputs": [
    {
     "data": {
      "text/plain": [
       "<sqlite3.Cursor at 0x11118c2d0>"
      ]
     },
     "execution_count": 28,
     "metadata": {},
     "output_type": "execute_result"
    }
   ],
   "source": [
    "c"
   ]
  },
  {
   "cell_type": "code",
   "execution_count": 3,
   "metadata": {},
   "outputs": [],
   "source": [
    "# your_info\n",
    "students = {\n",
    "    'first_name' : 'henry',\n",
    "    'birthday' :  '07-26',\n",
    "    'siblings' : 1\n",
    "}"
   ]
  },
  {
   "cell_type": "code",
   "execution_count": 4,
   "metadata": {},
   "outputs": [
    {
     "data": {
      "text/plain": [
       "{'first_name': 'henry', 'birthday': '07-26', 'siblings': 1}"
      ]
     },
     "execution_count": 4,
     "metadata": {},
     "output_type": "execute_result"
    }
   ],
   "source": [
    "students"
   ]
  },
  {
   "cell_type": "code",
   "execution_count": 5,
   "metadata": {},
   "outputs": [],
   "source": [
    "# insert entries into this db \n",
    "c.execute(\"INSERT INTO students VALUES ('something', '09-07',2)\")\n",
    "\n",
    "# This method sends a COMMIT statement to the MySQL server, committing the current transaction.\n",
    "#Since by default Connector/Python does not autocommit, it is important to call this method after every \n",
    "# transaction that modifies data for tables that use transactional storage engines.\n",
    "conn.commit()\n",
    "\n",
    "# closing the cursor\n",
    "c.close()\n",
    "\n",
    "# closing the connection\n",
    "conn.close()\n",
    "\n"
   ]
  },
  {
   "cell_type": "code",
   "execution_count": null,
   "metadata": {},
   "outputs": [],
   "source": [
    "# once you have closed the cursor and the connection, you cannot query from the db unless \n",
    "# you establish another connection"
   ]
  },
  {
   "cell_type": "code",
   "execution_count": 30,
   "metadata": {},
   "outputs": [],
   "source": [
    "conn = sqlite3.connect('students.db')\n",
    "c = conn.cursor()"
   ]
  },
  {
   "cell_type": "code",
   "execution_count": 37,
   "metadata": {},
   "outputs": [],
   "source": [
    "# insert even more entries into this table\n",
    "c.execute( \"INSERT INTO students VALUES (?,?,?)\",[students['first_name'],students['birthday'],students['siblings']])\n",
    "conn.commit()"
   ]
  },
  {
   "cell_type": "code",
   "execution_count": 47,
   "metadata": {},
   "outputs": [
    {
     "data": {
      "text/plain": [
       "'henry'"
      ]
     },
     "execution_count": 47,
     "metadata": {},
     "output_type": "execute_result"
    }
   ],
   "source": [
    "students['first_name']"
   ]
  },
  {
   "cell_type": "code",
   "execution_count": 46,
   "metadata": {},
   "outputs": [
    {
     "data": {
      "text/plain": [
       "[('something', '09-07', 2), ('henry', '07-26', 1)]"
      ]
     },
     "execution_count": 46,
     "metadata": {},
     "output_type": "execute_result"
    }
   ],
   "source": [
    "# let's see what we have in our students table\n",
    "\n",
    "# you can either access the said db via a GUI application, or you can\n",
    "\n",
    "c.execute(\"\"\"select * from students\"\"\")\n",
    "c.fetchall()"
   ]
  },
  {
   "cell_type": "code",
   "execution_count": 22,
   "metadata": {},
   "outputs": [],
   "source": [
    "# lets insert all of the data into db \n",
    "import json\n",
    "f = open('students.json','r')\n",
    "student_data = json.loads(f.read())"
   ]
  },
  {
   "cell_type": "code",
   "execution_count": 44,
   "metadata": {},
   "outputs": [
    {
     "data": {
      "text/plain": [
       "['[{\"first_name\": \"Sean\",\\n',\n",
       " '\"birthday\":\"02-06\",\\n',\n",
       " '\"siblings\" : 4\\n',\n",
       " '},\\n',\n",
       " '{\"first_name\": \"Cole\",\\n',\n",
       " '\"birthday\": \"07-20\",\\n',\n",
       " '\"siblings\" : 2\\n',\n",
       " '},\\n',\n",
       " '{\"first_name\": \"Marc\",\\n',\n",
       " '  \"birthday\":\"07-01\",\\n',\n",
       " '  \"siblings\" : 0\\n',\n",
       " '},\\n',\n",
       " '{\"first_name\": \"Rima\",\\n',\n",
       " '   \"birthday\":\"07-18\",\\n',\n",
       " '   \"siblings\" : 2\\n',\n",
       " '   },\\n',\n",
       " '{\"first_name\": \"Abdul\",\\n',\n",
       " '  \"birthday\":\"10-08\",\\n',\n",
       " '  \"siblings\" : 1\\n',\n",
       " ' },\\n',\n",
       " ' {\"first_name\": \"Grace\",\\n',\n",
       " '  \"birthday\":\"03-28\",\\n',\n",
       " '  \"siblings\" : 1\\n',\n",
       " '},\\n',\n",
       " '{\"first_name\": \"Caroline\",\\n',\n",
       " '  \"birthday\":\"01-05\",\\n',\n",
       " '  \"siblings\" : 3\\n',\n",
       " '  },\\n',\n",
       " '  {\"first_name\": \"Kevin\",\\n',\n",
       " '   \"birthday\":\"03-12\",\\n',\n",
       " '   \"siblings\" : 1\\n',\n",
       " '   },\\n',\n",
       " '   {\"first_name\": \"Thom\",\\n',\n",
       " '   \"birthday\":\"08-29\",\\n',\n",
       " '   \"siblings\" : 2\\n',\n",
       " '   },\\n',\n",
       " '   {\"first_name\": \"Derrick\",\\n',\n",
       " '   \"birthday\":\"02-23\",\\n',\n",
       " '   \"siblings\" : 0\\n',\n",
       " '   },\\n',\n",
       " '   {\"first_name\": \"Thom\",\\n',\n",
       " '   \"birthday\":\"08-29\",\\n',\n",
       " '   \"siblings\" : 2\\n',\n",
       " '   },\\n',\n",
       " '   {\"first_name\": \"Judah\",\\n',\n",
       " '     \"birthday\":\"10-23\",\\n',\n",
       " '     \"siblings\" : 0\\n',\n",
       " '     }]\\n']"
      ]
     },
     "execution_count": 44,
     "metadata": {},
     "output_type": "execute_result"
    }
   ],
   "source": [
    "f = open('students.json','r')\n",
    "f.readlines()"
   ]
  },
  {
   "cell_type": "code",
   "execution_count": 23,
   "metadata": {
    "scrolled": true
   },
   "outputs": [
    {
     "data": {
      "text/plain": [
       "[{'first_name': 'Sean', 'birthday': '02-06', 'siblings': 4},\n",
       " {'first_name': 'Cole', 'birthday': '07-20', 'siblings': 2},\n",
       " {'first_name': 'Marc', 'birthday': '07-01', 'siblings': 0},\n",
       " {'first_name': 'Rima', 'birthday': '07-18', 'siblings': 2},\n",
       " {'first_name': 'Abdul', 'birthday': '10-08', 'siblings': 1},\n",
       " {'first_name': 'Grace', 'birthday': '03-28', 'siblings': 1},\n",
       " {'first_name': 'Caroline', 'birthday': '01-05', 'siblings': 3},\n",
       " {'first_name': 'Kevin', 'birthday': '03-12', 'siblings': 1},\n",
       " {'first_name': 'Thom', 'birthday': '08-29', 'siblings': 2},\n",
       " {'first_name': 'Derrick', 'birthday': '02-23', 'siblings': 0},\n",
       " {'first_name': 'Thom', 'birthday': '08-29', 'siblings': 2},\n",
       " {'first_name': 'Judah', 'birthday': '10-23', 'siblings': 0}]"
      ]
     },
     "execution_count": 23,
     "metadata": {},
     "output_type": "execute_result"
    }
   ],
   "source": [
    "student_data"
   ]
  },
  {
   "cell_type": "code",
   "execution_count": 49,
   "metadata": {},
   "outputs": [
    {
     "data": {
      "text/plain": [
       "'02-06'"
      ]
     },
     "execution_count": 49,
     "metadata": {},
     "output_type": "execute_result"
    }
   ],
   "source": [
    "student_data[0]['birthday']"
   ]
  },
  {
   "cell_type": "code",
   "execution_count": 26,
   "metadata": {
    "scrolled": false
   },
   "outputs": [
    {
     "ename": "ProgrammingError",
     "evalue": "Cannot operate on a closed cursor.",
     "output_type": "error",
     "traceback": [
      "\u001b[0;31m---------------------------------------------------------------------------\u001b[0m",
      "\u001b[0;31mProgrammingError\u001b[0m                          Traceback (most recent call last)",
      "\u001b[0;32m<ipython-input-26-b29e336ea5bb>\u001b[0m in \u001b[0;36m<module>\u001b[0;34m()\u001b[0m\n\u001b[1;32m      1\u001b[0m \u001b[0;31m# insert one entry from the dictionary into the sql students table\u001b[0m\u001b[0;34m\u001b[0m\u001b[0;34m\u001b[0m\u001b[0m\n\u001b[0;32m----> 2\u001b[0;31m \u001b[0mc\u001b[0m\u001b[0;34m.\u001b[0m\u001b[0mexecute\u001b[0m\u001b[0;34m(\u001b[0m\u001b[0;34m\"INSERT INTO students VALUES (?,?,?)\"\u001b[0m\u001b[0;34m,\u001b[0m\u001b[0mstudent_data\u001b[0m\u001b[0;34m[\u001b[0m\u001b[0;36m0\u001b[0m\u001b[0;34m]\u001b[0m\u001b[0;34m[\u001b[0m\u001b[0;34m'first_name'\u001b[0m\u001b[0;34m]\u001b[0m\u001b[0;34m,\u001b[0m \u001b[0mstudent_data\u001b[0m\u001b[0;34m[\u001b[0m\u001b[0;36m0\u001b[0m\u001b[0;34m]\u001b[0m\u001b[0;34m[\u001b[0m\u001b[0;34m'birthday'\u001b[0m\u001b[0;34m]\u001b[0m\u001b[0;34m,\u001b[0m \u001b[0mstudent_data\u001b[0m\u001b[0;34m[\u001b[0m\u001b[0;36m0\u001b[0m\u001b[0;34m]\u001b[0m\u001b[0;34m[\u001b[0m\u001b[0;34m'siblings'\u001b[0m\u001b[0;34m]\u001b[0m\u001b[0;34m)\u001b[0m\u001b[0;34m\u001b[0m\u001b[0m\n\u001b[0m",
      "\u001b[0;31mProgrammingError\u001b[0m: Cannot operate on a closed cursor."
     ]
    }
   ],
   "source": [
    "# insert one entry from the dictionary into the sql students table\n",
    "c.execute(\"INSERT INTO students VALUES (?,?,?)\",student_data[0]['first_name'], student_data[0]['birthday'], student_data[0]['siblings'])\n"
   ]
  },
  {
   "cell_type": "code",
   "execution_count": null,
   "metadata": {},
   "outputs": [],
   "source": [
    "conn.commit()"
   ]
  },
  {
   "cell_type": "code",
   "execution_count": null,
   "metadata": {},
   "outputs": [],
   "source": [
    "c.execute(\"select * from students\")\n",
    "c.fetchall()"
   ]
  },
  {
   "cell_type": "code",
   "execution_count": 57,
   "metadata": {},
   "outputs": [],
   "source": [
    "# try this yourself! insert every entry from the dictionary into \n",
    "for i in range(0, len(student_data)-1):\n",
    "    c.execute(\"INSERT INTO students VALUES (?,?,?)\",[student_data[i]['first_name'],student_data[i]['birthday'],student_data[i]['siblings']])\n",
    "    conn.commit()"
   ]
  },
  {
   "cell_type": "code",
   "execution_count": 58,
   "metadata": {},
   "outputs": [
    {
     "data": {
      "text/plain": [
       "[('something', '09-07', 2),\n",
       " ('henry', '07-26', 1),\n",
       " ('henry', '07-26', 1),\n",
       " ('henry', '07-26', 1),\n",
       " ('Sean', '02-06', 4),\n",
       " ('Cole', '07-20', 2),\n",
       " ('Sean', '02-06', 4),\n",
       " ('Cole', '07-20', 2),\n",
       " ('Marc', '07-01', 0),\n",
       " ('Rima', '07-18', 2),\n",
       " ('Abdul', '10-08', 1),\n",
       " ('Grace', '03-28', 1),\n",
       " ('Caroline', '01-05', 3),\n",
       " ('Kevin', '03-12', 1),\n",
       " ('Thom', '08-29', 2),\n",
       " ('Derrick', '02-23', 0),\n",
       " ('Thom', '08-29', 2),\n",
       " ('Sean', '02-06', 4),\n",
       " ('Cole', '07-20', 2),\n",
       " ('Marc', '07-01', 0),\n",
       " ('Rima', '07-18', 2),\n",
       " ('Abdul', '10-08', 1),\n",
       " ('Grace', '03-28', 1),\n",
       " ('Caroline', '01-05', 3),\n",
       " ('Kevin', '03-12', 1),\n",
       " ('Thom', '08-29', 2),\n",
       " ('Derrick', '02-23', 0),\n",
       " ('Thom', '08-29', 2)]"
      ]
     },
     "execution_count": 58,
     "metadata": {},
     "output_type": "execute_result"
    }
   ],
   "source": [
    "# examine whether the changes have been committed\n",
    "c.execute(\"select * from students\")\n",
    "c.fetchall()"
   ]
  },
  {
   "cell_type": "code",
   "execution_count": 10,
   "metadata": {},
   "outputs": [
    {
     "data": {
      "text/plain": [
       "['random text\\n', 'we are going to learn reading files\\n', 'blah blah blah\\n']"
      ]
     },
     "execution_count": 10,
     "metadata": {},
     "output_type": "execute_result"
    }
   ],
   "source": [
    "import json\n",
    "file = open(\"temp.txt\",'r')\n",
    "file.readlines()"
   ]
  },
  {
   "cell_type": "code",
   "execution_count": 12,
   "metadata": {},
   "outputs": [
    {
     "name": "stdout",
     "output_type": "stream",
     "text": [
      "random text\n",
      "\n"
     ]
    }
   ],
   "source": [
    "with open('temp.txt','r') as file:\n",
    "    line_readline = file.readline()\n",
    "    print(line_readline)"
   ]
  },
  {
   "cell_type": "code",
   "execution_count": 13,
   "metadata": {},
   "outputs": [
    {
     "name": "stdout",
     "output_type": "stream",
     "text": [
      "random text\n",
      "we are going to learn reading files\n",
      "blah blah blah\n",
      "\n"
     ]
    }
   ],
   "source": [
    "with open('temp.txt','r') as file:\n",
    "    line_read = file.read()\n",
    "    print(line_read)"
   ]
  },
  {
   "cell_type": "markdown",
   "metadata": {},
   "source": [
    "### Selecting, querying, and filtering data"
   ]
  },
  {
   "cell_type": "code",
   "execution_count": 15,
   "metadata": {},
   "outputs": [
    {
     "data": {
      "text/plain": [
       "[{'first_name': 'MaryJo', 'birthday': '06-02', 'siblings': 4},\n",
       " {'first_name': 'Erika', 'birthday': '09-13', 'siblings': 3},\n",
       " {'first_name': 'Gordon', 'birthday': '11-08', 'siblings': 2},\n",
       " {'first_name': 'Max', 'birthday': '03-03', 'siblings': 1},\n",
       " {'first_name': 'Andrew', 'birthday': '10-31', 'siblings': 1},\n",
       " {'first_name': 'Kiryl', 'birthday': '02-19', 'siblings': 1},\n",
       " {'first_name': 'Chris', 'birthday': '12-10', 'siblings': 2},\n",
       " {'first_name': 'Noah', 'birthday': '08-13', 'siblings': 5},\n",
       " {'first_name': 'Jon', 'birthday': '03-17', 'siblings': 1},\n",
       " {'first_name': 'Rob', 'birthday': '10-03', 'siblings': 2},\n",
       " {'first_name': 'Tara', 'birthday': '01-15', 'siblings': 1},\n",
       " {'first_name': 'David', 'birthday': '10-26', 'siblings': 2},\n",
       " {'first_name': 'Mike', 'birthday': '10-27', 'siblings': 3},\n",
       " {'first_name': 'Samuel', 'birthday': '12-17', 'siblings': 1},\n",
       " {'first_name': 'B.G.', 'birthday': '02-25', 'siblings': 2},\n",
       " {'first_name': 'Tino', 'birthday': '06-03', 'siblings': 3},\n",
       " {'first_name': 'Ulku', 'birthday': '02-12', 'siblings': 9},\n",
       " {'first_name': 'Georgiy', 'birthday': '06-08', 'siblings': 1},\n",
       " {'first_name': 'Jennifer', 'birthday': '03-10', 'siblings': 4},\n",
       " {'first_name': 'LinhDan', 'birthday': '05-04', 'siblings': 1}]"
      ]
     },
     "execution_count": 15,
     "metadata": {},
     "output_type": "execute_result"
    }
   ],
   "source": [
    "f = open(\"students_0422.json\",'r')\n",
    "students_0422 = json.loads(f.read())\n",
    "students_0422"
   ]
  },
  {
   "cell_type": "code",
   "execution_count": 16,
   "metadata": {},
   "outputs": [
    {
     "data": {
      "text/plain": [
       "{'first_name': 'MaryJo', 'birthday': '06-02', 'siblings': 4}"
      ]
     },
     "execution_count": 16,
     "metadata": {},
     "output_type": "execute_result"
    }
   ],
   "source": [
    "for "
   ]
  },
  {
   "cell_type": "code",
   "execution_count": 59,
   "metadata": {},
   "outputs": [
    {
     "data": {
      "text/plain": [
       "[('something', '09-07', 2, 'something', '09-07', 2),\n",
       " ('henry', '07-26', 1, 'henry', '07-26', 1),\n",
       " ('henry', '07-26', 1, 'henry', '07-26', 1),\n",
       " ('henry', '07-26', 1, 'henry', '07-26', 1),\n",
       " ('henry', '07-26', 1, 'henry', '07-26', 1),\n",
       " ('henry', '07-26', 1, 'henry', '07-26', 1),\n",
       " ('henry', '07-26', 1, 'henry', '07-26', 1),\n",
       " ('henry', '07-26', 1, 'henry', '07-26', 1),\n",
       " ('henry', '07-26', 1, 'henry', '07-26', 1),\n",
       " ('henry', '07-26', 1, 'henry', '07-26', 1),\n",
       " ('Sean', '02-06', 4, 'Sean', '02-06', 4),\n",
       " ('Sean', '02-06', 4, 'Sean', '02-06', 4),\n",
       " ('Sean', '02-06', 4, 'Sean', '02-06', 4),\n",
       " ('Cole', '07-20', 2, 'Cole', '07-20', 2),\n",
       " ('Cole', '07-20', 2, 'Cole', '07-20', 2),\n",
       " ('Cole', '07-20', 2, 'Cole', '07-20', 2),\n",
       " ('Sean', '02-06', 4, 'Sean', '02-06', 4),\n",
       " ('Sean', '02-06', 4, 'Sean', '02-06', 4),\n",
       " ('Sean', '02-06', 4, 'Sean', '02-06', 4),\n",
       " ('Cole', '07-20', 2, 'Cole', '07-20', 2),\n",
       " ('Cole', '07-20', 2, 'Cole', '07-20', 2),\n",
       " ('Cole', '07-20', 2, 'Cole', '07-20', 2),\n",
       " ('Marc', '07-01', 0, 'Marc', '07-01', 0),\n",
       " ('Marc', '07-01', 0, 'Marc', '07-01', 0),\n",
       " ('Rima', '07-18', 2, 'Rima', '07-18', 2),\n",
       " ('Rima', '07-18', 2, 'Rima', '07-18', 2),\n",
       " ('Abdul', '10-08', 1, 'Abdul', '10-08', 1),\n",
       " ('Abdul', '10-08', 1, 'Abdul', '10-08', 1),\n",
       " ('Grace', '03-28', 1, 'Grace', '03-28', 1),\n",
       " ('Grace', '03-28', 1, 'Grace', '03-28', 1),\n",
       " ('Caroline', '01-05', 3, 'Caroline', '01-05', 3),\n",
       " ('Caroline', '01-05', 3, 'Caroline', '01-05', 3),\n",
       " ('Kevin', '03-12', 1, 'Kevin', '03-12', 1),\n",
       " ('Kevin', '03-12', 1, 'Kevin', '03-12', 1),\n",
       " ('Thom', '08-29', 2, 'Thom', '08-29', 2),\n",
       " ('Thom', '08-29', 2, 'Thom', '08-29', 2),\n",
       " ('Thom', '08-29', 2, 'Thom', '08-29', 2),\n",
       " ('Thom', '08-29', 2, 'Thom', '08-29', 2),\n",
       " ('Derrick', '02-23', 0, 'Derrick', '02-23', 0),\n",
       " ('Derrick', '02-23', 0, 'Derrick', '02-23', 0),\n",
       " ('Thom', '08-29', 2, 'Thom', '08-29', 2),\n",
       " ('Thom', '08-29', 2, 'Thom', '08-29', 2),\n",
       " ('Thom', '08-29', 2, 'Thom', '08-29', 2),\n",
       " ('Thom', '08-29', 2, 'Thom', '08-29', 2),\n",
       " ('Sean', '02-06', 4, 'Sean', '02-06', 4),\n",
       " ('Sean', '02-06', 4, 'Sean', '02-06', 4),\n",
       " ('Sean', '02-06', 4, 'Sean', '02-06', 4),\n",
       " ('Cole', '07-20', 2, 'Cole', '07-20', 2),\n",
       " ('Cole', '07-20', 2, 'Cole', '07-20', 2),\n",
       " ('Cole', '07-20', 2, 'Cole', '07-20', 2),\n",
       " ('Marc', '07-01', 0, 'Marc', '07-01', 0),\n",
       " ('Marc', '07-01', 0, 'Marc', '07-01', 0),\n",
       " ('Rima', '07-18', 2, 'Rima', '07-18', 2),\n",
       " ('Rima', '07-18', 2, 'Rima', '07-18', 2),\n",
       " ('Abdul', '10-08', 1, 'Abdul', '10-08', 1),\n",
       " ('Abdul', '10-08', 1, 'Abdul', '10-08', 1),\n",
       " ('Grace', '03-28', 1, 'Grace', '03-28', 1),\n",
       " ('Grace', '03-28', 1, 'Grace', '03-28', 1),\n",
       " ('Caroline', '01-05', 3, 'Caroline', '01-05', 3),\n",
       " ('Caroline', '01-05', 3, 'Caroline', '01-05', 3),\n",
       " ('Kevin', '03-12', 1, 'Kevin', '03-12', 1),\n",
       " ('Kevin', '03-12', 1, 'Kevin', '03-12', 1),\n",
       " ('Thom', '08-29', 2, 'Thom', '08-29', 2),\n",
       " ('Thom', '08-29', 2, 'Thom', '08-29', 2),\n",
       " ('Thom', '08-29', 2, 'Thom', '08-29', 2),\n",
       " ('Thom', '08-29', 2, 'Thom', '08-29', 2),\n",
       " ('Derrick', '02-23', 0, 'Derrick', '02-23', 0),\n",
       " ('Derrick', '02-23', 0, 'Derrick', '02-23', 0),\n",
       " ('Thom', '08-29', 2, 'Thom', '08-29', 2),\n",
       " ('Thom', '08-29', 2, 'Thom', '08-29', 2),\n",
       " ('Thom', '08-29', 2, 'Thom', '08-29', 2),\n",
       " ('Thom', '08-29', 2, 'Thom', '08-29', 2)]"
      ]
     },
     "execution_count": 59,
     "metadata": {},
     "output_type": "execute_result"
    }
   ],
   "source": [
    "# querying \n",
    "c.execute(\"SELECT * FROM students s1 join students s2 WHERE s1.first_name = s2.first_name\")\n",
    "conn.commit()\n",
    "c.fetchall()"
   ]
  },
  {
   "cell_type": "code",
   "execution_count": 63,
   "metadata": {},
   "outputs": [
    {
     "data": {
      "text/plain": [
       "[('Grace', '03-28', 1), ('Grace', '03-28', 1)]"
      ]
     },
     "execution_count": 63,
     "metadata": {},
     "output_type": "execute_result"
    }
   ],
   "source": [
    "# querying and filtering \n",
    "c.execute(\"SELECT * FROM students where first_name = 'Grace'\")\n",
    "conn.commit()\n",
    "c.fetchall()"
   ]
  },
  {
   "cell_type": "code",
   "execution_count": 64,
   "metadata": {},
   "outputs": [
    {
     "data": {
      "text/plain": [
       "[('something', '09-07', 2),\n",
       " ('henry', '07-26', 1),\n",
       " ('henry', '07-26', 1),\n",
       " ('henry', '07-26', 1),\n",
       " ('Sean', '02-06', 4),\n",
       " ('Cole', '07-20', 2),\n",
       " ('Sean', '02-06', 4),\n",
       " ('Cole', '07-20', 2),\n",
       " ('Marc', '07-01', 0),\n",
       " ('Rima', '07-18', 2),\n",
       " ('Abdul', '10-08', 1),\n",
       " ('Grace', '03-28', 1),\n",
       " ('Caroline', '01-05', 3),\n",
       " ('Thom', '08-29', 2),\n",
       " ('Derrick', '02-23', 0),\n",
       " ('Thom', '08-29', 2),\n",
       " ('Sean', '02-06', 4),\n",
       " ('Cole', '07-20', 2),\n",
       " ('Marc', '07-01', 0),\n",
       " ('Rima', '07-18', 2),\n",
       " ('Abdul', '10-08', 1),\n",
       " ('Grace', '03-28', 1),\n",
       " ('Caroline', '01-05', 3),\n",
       " ('Thom', '08-29', 2),\n",
       " ('Derrick', '02-23', 0),\n",
       " ('Thom', '08-29', 2)]"
      ]
     },
     "execution_count": 64,
     "metadata": {},
     "output_type": "execute_result"
    }
   ],
   "source": [
    "# more querying\n",
    "c.execute(\"SELECT * FROM students WHERE first_name != 'Kevin'\")\n",
    "conn.commit()\n",
    "c.fetchall()"
   ]
  },
  {
   "cell_type": "code",
   "execution_count": null,
   "metadata": {},
   "outputs": [],
   "source": [
    "c.fetchall()"
   ]
  },
  {
   "cell_type": "code",
   "execution_count": null,
   "metadata": {},
   "outputs": [],
   "source": [
    "# ordering \n",
    "c.execute(\"SELECT * FROM students order by first_name\")\n",
    "c.fetchall()"
   ]
  },
  {
   "cell_type": "code",
   "execution_count": null,
   "metadata": {},
   "outputs": [],
   "source": [
    "# simple operations \n",
    "c.execute(\"SELECT Count (*) FROM students\")\n",
    "c.fetchall()"
   ]
  },
  {
   "cell_type": "code",
   "execution_count": null,
   "metadata": {},
   "outputs": [],
   "source": [
    "# filtering and limiting\n",
    "\n",
    "# select the people who are only child\n",
    "c.execute(\"select * from students where num_siblings < 1\")\n",
    "conn.commit()\n",
    "c.fetchall()"
   ]
  },
  {
   "cell_type": "code",
   "execution_count": 66,
   "metadata": {},
   "outputs": [
    {
     "data": {
      "text/plain": [
       "[('something', '09-07', 2), ('henry', '07-26', 1), ('henry', '07-26', 1)]"
      ]
     },
     "execution_count": 66,
     "metadata": {},
     "output_type": "execute_result"
    }
   ],
   "source": [
    "# want three people who has siblings \n",
    "c.execute(\"select * from students where num_siblings > 0 limit 3\")\n",
    "conn.commit()\n",
    "c.fetchall()"
   ]
  },
  {
   "cell_type": "code",
   "execution_count": 65,
   "metadata": {},
   "outputs": [
    {
     "data": {
      "text/plain": [
       "[('Sean',), ('Sean',), ('Caroline',), ('Sean',), ('Caroline',)]"
      ]
     },
     "execution_count": 65,
     "metadata": {},
     "output_type": "execute_result"
    }
   ],
   "source": [
    "# only selecting certain columns\n",
    "c.execute(\"select first_name from students where num_siblings > 2 \")\n",
    "conn.commit()\n",
    "c.fetchall()"
   ]
  },
  {
   "cell_type": "markdown",
   "metadata": {},
   "source": [
    "## Joining and working with multiple tables \n",
    "- Like pandas df, sql allows us to work with multiple dataframes with ease with different types of JOINS\n",
    "- What are they?\n"
   ]
  },
  {
   "cell_type": "markdown",
   "metadata": {},
   "source": [
    "## Part III. Communicating and Comparison with Pandas "
   ]
  },
  {
   "cell_type": "code",
   "execution_count": null,
   "metadata": {},
   "outputs": [],
   "source": [
    "import pandas as pd\n",
    "df = pd.read_sql_query(\"select * from students\", conn)"
   ]
  },
  {
   "cell_type": "code",
   "execution_count": null,
   "metadata": {},
   "outputs": [],
   "source": [
    "df.head()"
   ]
  },
  {
   "cell_type": "code",
   "execution_count": null,
   "metadata": {},
   "outputs": [],
   "source": [
    "# remember how we save this to a csv?\n",
    "df.to_csv(\"students.csv\")"
   ]
  }
 ],
 "metadata": {
  "kernelspec": {
   "display_name": "Python 3",
   "language": "python",
   "name": "python3"
  },
  "language_info": {
   "codemirror_mode": {
    "name": "ipython",
    "version": 3
   },
   "file_extension": ".py",
   "mimetype": "text/x-python",
   "name": "python",
   "nbconvert_exporter": "python",
   "pygments_lexer": "ipython3",
   "version": "3.7.0"
  }
 },
 "nbformat": 4,
 "nbformat_minor": 2
}
